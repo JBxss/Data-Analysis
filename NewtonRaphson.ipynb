{
  "nbformat": 4,
  "nbformat_minor": 0,
  "metadata": {
    "colab": {
      "provenance": [],
      "authorship_tag": "ABX9TyPG0hjpIHRTk8nvECL2UEUH",
      "include_colab_link": true
    },
    "kernelspec": {
      "name": "python3",
      "display_name": "Python 3"
    },
    "language_info": {
      "name": "python"
    }
  },
  "cells": [
    {
      "cell_type": "markdown",
      "metadata": {
        "id": "view-in-github",
        "colab_type": "text"
      },
      "source": [
        "<a href=\"https://colab.research.google.com/github/JBxss/Data-Analysis/blob/main/NewtonRaphson.ipynb\" target=\"_parent\"><img src=\"https://colab.research.google.com/assets/colab-badge.svg\" alt=\"Open In Colab\"/></a>"
      ]
    },
    {
      "cell_type": "code",
      "execution_count": 2,
      "metadata": {
        "colab": {
          "base_uri": "https://localhost:8080/"
        },
        "id": "2lf7IJB2Bu4o",
        "outputId": "0865dc2f-365f-4324-e929-1bce21bda94e"
      },
      "outputs": [
        {
          "output_type": "stream",
          "name": "stdout",
          "text": [
            "La raíz aproximada es: -2.318801135264153\n"
          ]
        }
      ],
      "source": [
        "import math\n",
        "\n",
        "# Definir la función y su derivada\n",
        "def f(x):\n",
        "    return math.sin(x**3) - math.exp(x)\n",
        "\n",
        "def f_prime(x):\n",
        "    return 3*x**2 * math.cos(x**3) - math.exp(x)\n",
        "\n",
        "# Suposición inicial\n",
        "x0 = 1.0\n",
        "\n",
        "# Número máximo de iteraciones\n",
        "max_iterations = 100\n",
        "\n",
        "# Tolerancia para la convergencia\n",
        "tolerance = 1e-6\n",
        "\n",
        "# Método de Newton-Raphson\n",
        "for i in range(max_iterations):\n",
        "    fx = f(x0)\n",
        "    fpx = f_prime(x0)\n",
        "    x1 = x0 - fx / fpx\n",
        "    if abs(x1 - x0) < tolerance:\n",
        "        break\n",
        "    x0 = x1\n",
        "\n",
        "print(\"La raíz aproximada es:\", x1)\n"
      ]
    }
  ]
}