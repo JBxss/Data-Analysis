{
  "nbformat": 4,
  "nbformat_minor": 0,
  "metadata": {
    "colab": {
      "provenance": [],
      "include_colab_link": true
    },
    "kernelspec": {
      "name": "python3",
      "display_name": "Python 3"
    },
    "language_info": {
      "name": "python"
    }
  },
  "cells": [
    {
      "cell_type": "markdown",
      "metadata": {
        "id": "view-in-github",
        "colab_type": "text"
      },
      "source": [
        "<a href=\"https://colab.research.google.com/github/JBxss/Data-Analysis/blob/main/EvolutionStrategies.ipynb\" target=\"_parent\"><img src=\"https://colab.research.google.com/assets/colab-badge.svg\" alt=\"Open In Colab\"/></a>"
      ]
    },
    {
      "cell_type": "code",
      "source": [
        "# Evolution Strategies \"(μ + λ)-ES\"\n",
        "\n",
        "import numpy as np\n",
        "\n",
        "def mu_plus_lambda_ES(objective_func, mu, lambda_, num_iterations, num_variables, bounds):\n",
        "    # Initialize the population\n",
        "    population = np.random.uniform(bounds[0], bounds[1], size=(mu, num_variables))\n",
        "\n",
        "    for iteration in range(num_iterations):\n",
        "        # Evaluate the objective function for each individual in the population\n",
        "        fitness = np.array([objective_func(individual) for individual in population])\n",
        "\n",
        "        # Sort the population based on fitness\n",
        "        sorted_indices = np.argsort(fitness)\n",
        "        population = population[sorted_indices]\n",
        "\n",
        "        # Select the top mu individuals as parents for the next generation\n",
        "        parents = population[:mu]\n",
        "\n",
        "        # Generate offspring by mutating and recombining the parents\n",
        "        offspring = np.empty((lambda_, num_variables))\n",
        "        for i in range(lambda_):\n",
        "            # Select two random parents' indices for recombination\n",
        "            parent1_idx, parent2_idx = np.random.choice(range(mu), size=2, replace=False)\n",
        "\n",
        "            # Perform mutation by adding a small random value to the parent\n",
        "            parent1 = parents[parent1_idx]\n",
        "            parent2 = parents[parent2_idx]\n",
        "            offspring[i] = parent1 + np.random.normal(0, 0.1, size=num_variables)\n",
        "\n",
        "            # Clip the offspring values to ensure they are within the defined bounds\n",
        "            offspring[i] = np.clip(offspring[i], bounds[0], bounds[1])\n",
        "\n",
        "        # Select the top mu offspring based on fitness\n",
        "        offspring_fitness = np.array([objective_func(individual) for individual in offspring])\n",
        "        sorted_offspring_indices = np.argsort(offspring_fitness)\n",
        "        offspring = offspring[sorted_offspring_indices][:mu]\n",
        "\n",
        "        # Replace the mu least fit individuals in the population with the offspring\n",
        "        population[-mu:] = offspring\n",
        "\n",
        "    # Return the best individual and its fitness from the final population\n",
        "    best_individual = population[0]\n",
        "    best_fitness = objective_func(best_individual)\n",
        "    return best_individual, best_fitness\n",
        "\n",
        "\n",
        "# Example usage\n",
        "def objective_func(x):\n",
        "    # Example objective function (minimization)\n",
        "    return x[0]**2 + x[1]**2\n",
        "\n",
        "# Set the parameters\n",
        "mu = 5\n",
        "lambda_ = 10\n",
        "num_iterations = 100\n",
        "num_variables = 2\n",
        "bounds = (-5, 5)\n",
        "\n",
        "# Run the (μ + λ)-ES\n",
        "best_solution, best_fitness = mu_plus_lambda_ES(objective_func, mu, lambda_, num_iterations, num_variables, bounds)\n",
        "\n",
        "# Print the results\n",
        "print(\"Best solution:\", best_solution)\n",
        "print(\"Best fitness:\", best_fitness)\n"
      ],
      "metadata": {
        "colab": {
          "base_uri": "https://localhost:8080/"
        },
        "id": "NbQYjrRLjTmX",
        "outputId": "34ba5418-15c0-4c8c-ad3f-7d1d386d413e"
      },
      "execution_count": null,
      "outputs": [
        {
          "output_type": "stream",
          "name": "stdout",
          "text": [
            "Best solution: [ 0.03921317 -0.03566126]\n",
            "Best fitness: 0.002809397706114894\n"
          ]
        }
      ]
    },
    {
      "cell_type": "code",
      "source": [
        "# Evolution Strategies \"variant (1+1) - ES\"\n",
        "def evolution_strategy(fitness_function, search_space, num_iterations, sigma):\n",
        "  \"\"\"\n",
        "  Performs an evolution strategy with the \"variant (1+1) - ES\" algorithm.\n",
        "\n",
        "  Args:\n",
        "    fitness_function: A function that takes a point in the search space and returns its fitness.\n",
        "    search_space: A list of bounds that define the search space.\n",
        "    num_iterations: The number of iterations to perform.\n",
        "    sigma: The standard deviation of the Gaussian mutation distribution.\n",
        "\n",
        "  Returns:\n",
        "    The best point found after all iterations.\n",
        "  \"\"\"\n",
        "\n",
        "  best_point = None\n",
        "  best_fitness = float(\"-inf\")\n",
        "\n",
        "  for i in range(num_iterations):\n",
        "    # Generate a new point in the search space.\n",
        "    new_point = search_space + np.random.normal(0, sigma, len(search_space))\n",
        "\n",
        "    # Evaluate the fitness of the new point.\n",
        "    new_fitness = fitness_function(new_point)\n",
        "\n",
        "    # If the new point is better than the best point found so far, replace it.\n",
        "    if new_fitness > best_fitness:\n",
        "      best_point = new_point\n",
        "      best_fitness = new_fitness\n",
        "\n",
        "  return best_point\n",
        "\n",
        "\n",
        "# Example of using the evolution strategy to find the minimum of the Rosenbrock function.\n",
        "\n",
        "def rosenbrock(x):\n",
        "  return (1 - x[0])**2 + 100 * (x[1] - x[0]**2)**2\n",
        "\n",
        "\n",
        "search_space = [-10, 10]\n",
        "num_iterations = 100\n",
        "sigma = 1\n",
        "\n",
        "best_point = evolution_strategy(rosenbrock, search_space, num_iterations, sigma)\n",
        "\n",
        "print(best_point)"
      ],
      "metadata": {
        "colab": {
          "base_uri": "https://localhost:8080/"
        },
        "id": "772ps0cni9Ty",
        "outputId": "7edb670c-5328-43fe-9df5-2945df57fc1f"
      },
      "execution_count": null,
      "outputs": [
        {
          "output_type": "stream",
          "name": "stdout",
          "text": [
            "[-12.39422723   9.12188325]\n"
          ]
        }
      ]
    },
    {
      "cell_type": "code",
      "source": [
        "# Evolution Strategies \"Mutation\"\n",
        "def mutation(individual, mutation_strength):\n",
        "  \"\"\"\n",
        "  Performs a mutation on the given individual.\n",
        "\n",
        "  Args:\n",
        "    individual: The individual to mutate.\n",
        "    mutation_strength: The strength of the mutation.\n",
        "\n",
        "  Returns:\n",
        "    The mutated individual.\n",
        "  \"\"\"\n",
        "\n",
        "  # Generate a random vector of the same size as the individual.\n",
        "  random_vector = np.random.normal(0, mutation_strength, individual.shape)\n",
        "\n",
        "  # Add the random vector to the individual.\n",
        "  mutated_individual = individual + random_vector\n",
        "\n",
        "  return mutated_individual\n",
        "\n",
        "\n",
        "# Example of all of the functional arguments with the implementation.\n",
        "\n",
        "individual = np.array([1, 2, 3])\n",
        "mutation_strength = 0.1\n",
        "\n",
        "mutated_individual = mutation(individual, mutation_strength)\n",
        "\n",
        "print(mutated_individual)"
      ],
      "metadata": {
        "colab": {
          "base_uri": "https://localhost:8080/"
        },
        "id": "KbJEo7XShFPz",
        "outputId": "5ac80202-0880-4643-8e75-f957fc199b2e"
      },
      "execution_count": null,
      "outputs": [
        {
          "output_type": "stream",
          "name": "stdout",
          "text": [
            "[0.98461658 1.87051505 2.88976375]\n"
          ]
        }
      ]
    },
    {
      "cell_type": "code",
      "source": [
        "# Evolution Strategies \"Adapting Mutation Step\"\n",
        "import numpy as np\n",
        "\n",
        "def adapting_mutation_step(population, fitness_function, sigma=1.0, alpha=0.1):\n",
        "  \"\"\"\n",
        "  This function implements the adapting mutation step evolution strategy.\n",
        "\n",
        "  Args:\n",
        "    population: A list of individuals.\n",
        "    fitness_function: A function that takes an individual as input and returns its fitness.\n",
        "    sigma: The initial mutation step size.\n",
        "    alpha: The learning rate.\n",
        "\n",
        "  Returns:\n",
        "    A new population of individuals.\n",
        "  \"\"\"\n",
        "\n",
        "  # Evaluate the fitness of the current population.\n",
        "  fitnesses = []\n",
        "  for individual in population:\n",
        "    fitnesses.append(fitness_function(individual))\n",
        "\n",
        "  # Select the best individual.\n",
        "  best_individual = population[np.argmax(fitnesses)]\n",
        "\n",
        "  # Generate offspring by mutating the best individual.\n",
        "  offspring = []\n",
        "  for i in range(len(population)):\n",
        "    offspring.append(best_individual + np.random.normal(0, sigma, len(best_individual)))\n",
        "\n",
        "  # Evaluate the fitness of the offspring.\n",
        "  offspring_fitnesses = []\n",
        "  for offspring_individual in offspring:\n",
        "    offspring_fitnesses.append(fitness_function(offspring_individual))\n",
        "\n",
        "  # Select the best offspring.\n",
        "  best_offspring = offspring[np.argmax(offspring_fitnesses)]\n",
        "\n",
        "  # Update the mutation step size.\n",
        "  sigma = sigma * (1 + alpha * (best_offspring - best_individual))\n",
        "\n",
        "  # Return a new population consisting of the best individual and the best offspring.\n",
        "  return [best_individual, best_offspring]\n",
        "\n",
        "\n",
        "# Example of all its functional arguments with the implementation:\n",
        "\n",
        "# Population: A list of individuals.\n",
        "population = [[1, 2, 3], [4, 5, 6], [7, 8, 9]]\n",
        "\n",
        "# Fitness function: A function that takes an individual as input and returns its fitness.\n",
        "def fitness_function(individual):\n",
        "  return sum(individual)\n",
        "\n",
        "# Sigma: The initial mutation step size.\n",
        "sigma = 1.0\n",
        "\n",
        "# Alpha: The learning rate.\n",
        "alpha = 0.1\n",
        "\n",
        "# Run the adapting mutation step evolution strategy.\n",
        "new_population = adapting_mutation_step(population, fitness_function, sigma, alpha)\n",
        "\n",
        "# Print the new population.\n",
        "print(new_population)\n"
      ],
      "metadata": {
        "colab": {
          "base_uri": "https://localhost:8080/"
        },
        "id": "qdSnIg9leOwA",
        "outputId": "6b26884c-c8cb-44d9-8f90-58988289aaa5"
      },
      "execution_count": null,
      "outputs": [
        {
          "output_type": "stream",
          "name": "stdout",
          "text": [
            "[[7, 8, 9], array([ 7.86378886,  7.49786238, 10.33500678])]\n"
          ]
        }
      ]
    },
    {
      "cell_type": "code",
      "source": [
        "# Evolution Strategies \"Recombination\"\n",
        "\n",
        "import random\n",
        "\n",
        "def recombination(parents, crossover_prob):\n",
        "  \"\"\"\n",
        "  Performs recombination on a list of parents.\n",
        "\n",
        "  Args:\n",
        "    parents: A list of parents. Each parent is a list of genes.\n",
        "    crossover_prob: The probability of crossover.\n",
        "\n",
        "  Returns:\n",
        "    A list of offspring. Each offspring is a list of genes.\n",
        "  \"\"\"\n",
        "\n",
        "  offspring = []\n",
        "  for i in range(len(parents) // 2):\n",
        "    # Choose two parents randomly.\n",
        "    parent1 = parents[i]\n",
        "    parent2 = parents[len(parents) - i - 1]\n",
        "\n",
        "    # Generate a random number between 0 and 1.\n",
        "    crossover_point = int(random.random() * len(parent1))\n",
        "\n",
        "    # Perform crossover if the random number is less than the crossover probability.\n",
        "    if random.random() < crossover_prob:\n",
        "      offspring.append(parent1[:crossover_point] + parent2[crossover_point:])\n",
        "      offspring.append(parent2[:crossover_point] + parent1[crossover_point:])\n",
        "    else:\n",
        "      offspring.append(parent1)\n",
        "      offspring.append(parent2)\n",
        "\n",
        "  return offspring\n",
        "\n",
        "\n",
        "# Example of all of the functional arguments with the implementation.\n",
        "\n",
        "parents = [[1, 2, 3], [4, 5, 6]]\n",
        "crossover_prob = 0.5\n",
        "\n",
        "offspring = recombination(parents, crossover_prob)\n",
        "\n",
        "print(offspring)\n"
      ],
      "metadata": {
        "colab": {
          "base_uri": "https://localhost:8080/"
        },
        "id": "hhks-taTeZYo",
        "outputId": "70cf1a35-6146-4f79-df22-4ffc75a2b954"
      },
      "execution_count": null,
      "outputs": [
        {
          "output_type": "stream",
          "name": "stdout",
          "text": [
            "[[4, 5, 6], [1, 2, 3]]\n"
          ]
        }
      ]
    },
    {
      "cell_type": "code",
      "source": [
        "# Evolution Strategies \"Selection\"\n",
        "import matplotlib.pyplot as plt\n",
        "\n",
        "def selection(population, fitness, k=1):\n",
        "  \"\"\"\n",
        "  Selects the best individuals from a population according to their fitness.\n",
        "\n",
        "  Args:\n",
        "    population: A list of individuals.\n",
        "    fitness: A list of fitness values, one for each individual in the population.\n",
        "    k: The number of individuals to select.\n",
        "\n",
        "  Returns:\n",
        "    A list of the k best individuals.\n",
        "  \"\"\"\n",
        "\n",
        "  # Sort the population by fitness.\n",
        "  population.sort(key=lambda individual: individual['fitness'], reverse=True)\n",
        "\n",
        "  # Select the top k individuals.\n",
        "  selected_individuals = population[:k]\n",
        "\n",
        "  return selected_individuals\n",
        "\n",
        "\n",
        "# Example of all its functional arguments with the implementation:\n",
        "\n",
        "population = [\n",
        "  {\"fitness\": 1.0},\n",
        "  {\"fitness\": 0.5},\n",
        "  {\"fitness\": 0.2},\n",
        "]\n",
        "\n",
        "fitness = [individual['fitness'] for individual in population]\n",
        "\n",
        "selected_individuals = selection(population, fitness, k=2)\n",
        "\n",
        "print(selected_individuals)\n",
        "\n",
        "# Output:\n",
        "# [{'fitness': 1.0}, {'fitness': 0.5}]\n"
      ],
      "metadata": {
        "colab": {
          "base_uri": "https://localhost:8080/"
        },
        "id": "m96kVDKJgkJz",
        "outputId": "1e259494-f21a-4d28-91c5-f29e5db600d2"
      },
      "execution_count": null,
      "outputs": [
        {
          "output_type": "stream",
          "name": "stdout",
          "text": [
            "[{'fitness': 1.0}, {'fitness': 0.5}]\n"
          ]
        }
      ]
    }
  ]
}