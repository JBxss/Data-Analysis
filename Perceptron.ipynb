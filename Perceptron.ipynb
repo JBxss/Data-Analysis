{
  "nbformat": 4,
  "nbformat_minor": 0,
  "metadata": {
    "colab": {
      "provenance": [],
      "authorship_tag": "ABX9TyOkQCu9HE4ctdqF7IzyDxoB",
      "include_colab_link": true
    },
    "kernelspec": {
      "name": "python3",
      "display_name": "Python 3"
    },
    "language_info": {
      "name": "python"
    }
  },
  "cells": [
    {
      "cell_type": "markdown",
      "metadata": {
        "id": "view-in-github",
        "colab_type": "text"
      },
      "source": [
        "<a href=\"https://colab.research.google.com/github/JBxss/Data-Analysis/blob/main/Perceptron.ipynb\" target=\"_parent\"><img src=\"https://colab.research.google.com/assets/colab-badge.svg\" alt=\"Open In Colab\"/></a>"
      ]
    },
    {
      "cell_type": "code",
      "execution_count": null,
      "metadata": {
        "id": "C5KmleWBYX5p"
      },
      "outputs": [],
      "source": [
        "# Librerias para operaciones matematicas y graficos\n",
        "import numpy as np\n",
        "import matplotlib.pyplot as plt"
      ]
    },
    {
      "cell_type": "code",
      "source": [
        "# Datos de 9 Puntos -> [Eje X, Eje Y]\n",
        "X = np.array([[6, 9], [8, 14], [9, 7], [9, 11], [11, 8], [14, 2], [16, 5], [17, 10], [19, 3]])\n",
        "\n",
        "# 1 : Clase 1 (Circulos Verdes)    0 : Clase 0 (Triangulos Rojos)\n",
        "y = np.array([1, 1, 1, 1, 1, 0, 0, 0, 0])"
      ],
      "metadata": {
        "id": "S-ywFQJdYsaV"
      },
      "execution_count": null,
      "outputs": []
    },
    {
      "cell_type": "code",
      "source": [
        "# Gráfica de dispersión (Eje X, Eje Y)\n",
        "plt.figure(figsize=(7, 7))\n",
        "plt.title(\"Datos\")\n",
        "plt.scatter(X[y == 1].T[0],\n",
        "            X[y == 1].T[1],\n",
        "            marker=\"o\", color=\"green\", label=\"Clase 1\") # Dibuja Clase 1\n",
        "plt.scatter(X[y == 0].T[0],\n",
        "            X[y == 0].T[1],\n",
        "            marker=\"^\", color=\"red\", label=\"Clase 0\") # Dibuja Clase 0\n",
        "plt.legend(bbox_to_anchor=(1.3, 0.15))\n",
        "plt.xlabel(\"Eje X\", fontsize=15)\n",
        "plt.ylabel(\"Eje Y\", fontsize=15)\n",
        "plt.grid()\n",
        "plt.show()"
      ],
      "metadata": {
        "colab": {
          "base_uri": "https://localhost:8080/",
          "height": 463
        },
        "id": "mS2P3ZS4u1mz",
        "outputId": "917d1dd1-5800-484d-9400-9eb4e9278347"
      },
      "execution_count": null,
      "outputs": [
        {
          "output_type": "display_data",
          "data": {
            "text/plain": [
              "<Figure size 504x504 with 1 Axes>"
            ],
            "image/png": "[encoded data removed]"
          },
          "metadata": {
            "needs_background": "light"
          }
        }
      ]
    },
    {
      "cell_type": "code",
      "source": [
        "# Definicion de valores iniciales del perceptrón\n",
        "\n",
        "# Pesos\n",
        "w = np.array([0, -0.5, 2])  # w0 = 0, w1 = -0.5, w2 = 2\n",
        "\n",
        "# Tasa de Aprendizaje\n",
        "alpha = 0.2"
      ],
      "metadata": {
        "id": "XnHdRbvcZMzg"
      },
      "execution_count": null,
      "outputs": []
    },
    {
      "cell_type": "code",
      "source": [
        "# Función de activación\n",
        "def activacion(z):\n",
        "    if z >= 0:\n",
        "        return 1              # Si la entrada es mayor o igual a 0 y 0 en caso contrario\n",
        "    else:\n",
        "        return 0"
      ],
      "metadata": {
        "id": "U6S4IXAMZSN0"
      },
      "execution_count": null,
      "outputs": []
    },
    {
      "cell_type": "code",
      "source": [
        "# Entrenamiento del perceptrón\n",
        "epocas = 100\n",
        "for epoch in range(epocas):\n",
        "    for i in range(len(X)):\n",
        "        x = np.concatenate(([1], X[i]))  # entrada del perceptrón (agregar un 1 para w0)\n",
        "        z = np.dot(w, x)  # salida del perceptrón\n",
        "        a = activacion(z)  # Determinamos la salida del perceptrón a partir de la suma ponderada de las entradas.\n",
        "        e = y[i] - a  # error\n",
        "        w += alpha * e * x  # actualización de pesos"
      ],
      "metadata": {
        "id": "6jbbzpnDZi_5"
      },
      "execution_count": null,
      "outputs": []
    },
    {
      "cell_type": "markdown",
      "source": [
        "# **Calcular la línea que separa los puntos**\n",
        "---\n",
        "\n",
        "Podemos calcular la ecuación de la línea que separa los puntos mediante la siguiente fórmula:\n",
        "\n",
        "> w1*x1 + w2*x2 + b = 0\n",
        "\n",
        "En este caso, como estamos trabajando en un plano (2D), la línea es una recta, por lo que podemos expresarla como y = mx + b donde m es la pendiente y b es el intercepto en el eje y.\n",
        "\n",
        "Para obtener la pendiente, despejamos x2 de la ecuación:\n",
        "\n",
        "\n",
        "> w1*x1 + w2*x2 + b = 0\n",
        "\n",
        "> x2 = (-w1*x1 - b) / w2\n",
        "\n",
        "\n",
        "\n",
        "\n",
        "Entonces, la pendiente es -w1/w2 y el intercepto es -b/w2"
      ],
      "metadata": {
        "id": "x_KFJhgEiRwC"
      }
    },
    {
      "cell_type": "code",
      "source": [
        "pendiente = -w[1] / w[2]\n",
        "intercepto = -w[0] / w[2]\n",
        "x_points = np.array([X[:,0].min(), X[:,0].max()])\n",
        "y_points = pendiente * x_points + intercepto"
      ],
      "metadata": {
        "id": "XxwbwmW71z8X"
      },
      "execution_count": null,
      "outputs": []
    },
    {
      "cell_type": "code",
      "source": [
        "# Grafica los puntos y la línea separadora\n",
        "plt.figure(figsize=(7, 7))\n",
        "plt.title(\"Linea del Perceptron\")\n",
        "plt.scatter(X[y == 1].T[0],\n",
        "            X[y == 1].T[1],\n",
        "            marker=\"o\", color=\"green\", label=\"Clase 1\") # Dibuja Clase 1\n",
        "plt.scatter(X[y == 0].T[0],\n",
        "            X[y == 0].T[1],\n",
        "            marker=\"^\", color=\"red\", label=\"Clase 0\") # Dibuja Clase 0\n",
        "plt.legend(bbox_to_anchor=(1.3, 0.15))\n",
        "plt.xlabel(\"Eje X\", fontsize=15)\n",
        "plt.ylabel(\"Eje Y\", fontsize=15)\n",
        "plt.plot(x_points, y_points) #Dibuja la linea del Percentron\n",
        "plt.grid()\n",
        "plt.show()"
      ],
      "metadata": {
        "colab": {
          "base_uri": "https://localhost:8080/",
          "height": 463
        },
        "id": "GpIR18DCbwN9",
        "outputId": "3aa40e70-2d8f-44f6-865c-f3e84bb42b15"
      },
      "execution_count": null,
      "outputs": [
        {
          "output_type": "display_data",
          "data": {
            "text/plain": [
              "<Figure size 504x504 with 1 Axes>"
            ],
            "image/png": "[encoded data removed]"
          },
          "metadata": {
            "needs_background": "light"
          }
        }
      ]
    }
  ]
}