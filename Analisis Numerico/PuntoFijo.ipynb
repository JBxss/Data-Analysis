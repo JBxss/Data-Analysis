{
  "nbformat": 4,
  "nbformat_minor": 0,
  "metadata": {
    "colab": {
      "provenance": [],
      "authorship_tag": "ABX9TyMCcC2v+z5/6+EgmjiYp0nV",
      "include_colab_link": true
    },
    "kernelspec": {
      "name": "python3",
      "display_name": "Python 3"
    },
    "language_info": {
      "name": "python"
    }
  },
  "cells": [
    {
      "cell_type": "markdown",
      "metadata": {
        "id": "view-in-github",
        "colab_type": "text"
      },
      "source": [
        "<a href=\"https://colab.research.google.com/github/JBxss/Data-Analysis/blob/main/PuntoFijo.ipynb\" target=\"_parent\"><img src=\"https://colab.research.google.com/assets/colab-badge.svg\" alt=\"Open In Colab\"/></a>"
      ]
    },
    {
      "cell_type": "code",
      "execution_count": 1,
      "metadata": {
        "colab": {
          "base_uri": "https://localhost:8080/"
        },
        "id": "oaSI63xPRmw5",
        "outputId": "2b1a139e-8bc7-4fdb-b014-de1777e17d67"
      },
      "outputs": [
        {
          "output_type": "stream",
          "name": "stdout",
          "text": [
            "Aproximación del punto fijo: 0.5738330308924364\n"
          ]
        }
      ],
      "source": [
        "import math\n",
        "\n",
        "# Definir la función g(x)\n",
        "def g(x):\n",
        "    return math.log(x**2 + 1) - math.exp(0.4 * x) * math.cos(math.pi * x)\n",
        "\n",
        "# Valor inicial\n",
        "x0 = 0.5\n",
        "\n",
        "# Tolerancia para la convergencia\n",
        "tolerancia = 1e-6\n",
        "\n",
        "# Iterar hasta que la diferencia sea menor que la tolerancia\n",
        "while True:\n",
        "    x1 = g(x0)\n",
        "    if abs(x1 - x0) < tolerancia:\n",
        "        break\n",
        "    x0 = x1\n",
        "\n",
        "# El valor de x que encontramos es una aproximación del punto fijo\n",
        "punto_fijo = x1\n",
        "\n",
        "print(\"Aproximación del punto fijo:\", punto_fijo)\n"
      ]
    }
  ]
}