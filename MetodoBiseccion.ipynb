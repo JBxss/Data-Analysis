{
  "nbformat": 4,
  "nbformat_minor": 0,
  "metadata": {
    "colab": {
      "provenance": [],
      "authorship_tag": "ABX9TyMG6rXrfvNfBTOa0esnXSFT",
      "include_colab_link": true
    },
    "kernelspec": {
      "name": "python3",
      "display_name": "Python 3"
    },
    "language_info": {
      "name": "python"
    }
  },
  "cells": [
    {
      "cell_type": "markdown",
      "metadata": {
        "id": "view-in-github",
        "colab_type": "text"
      },
      "source": [
        "<a href=\"https://colab.research.google.com/github/JBxss/Data-Analysis/blob/main/MetodoBiseccion.ipynb\" target=\"_parent\"><img src=\"https://colab.research.google.com/assets/colab-badge.svg\" alt=\"Open In Colab\"/></a>"
      ]
    },
    {
      "cell_type": "code",
      "execution_count": null,
      "metadata": {
        "colab": {
          "base_uri": "https://localhost:8080/"
        },
        "id": "_jVZrHICQKn6",
        "outputId": "0ab541c1-3a28-4d39-fce0-344de4dd4143"
      },
      "outputs": [
        {
          "output_type": "stream",
          "name": "stdout",
          "text": [
            "Aproximación de la raíz: -0.4341421127319336\n",
            "Valor de la función en la raíz: -3.1626344010327045e-06\n"
          ]
        }
      ],
      "source": [
        "import math\n",
        "\n",
        "def f(x):\n",
        "    return math.log(x ** 2 + 1) - math.exp(0.4 * x) * math.cos(math.pi * x)\n",
        "\n",
        "def bisection_method(a, b, tolerance, max_iterations):\n",
        "    if f(a) * f(b) >= 0:\n",
        "        raise ValueError(\"La función no cumple con la condición f(a) * f(b) < 0 en el intervalo dado.\")\n",
        "\n",
        "    iteration = 0\n",
        "    while (b - a) / 2 > tolerance and iteration < max_iterations:\n",
        "        c = (a + b) / 2\n",
        "        if f(c) == 0:\n",
        "            break\n",
        "        if f(c) * f(a) < 0:\n",
        "            b = c\n",
        "        else:\n",
        "            a = c\n",
        "        iteration += 1\n",
        "\n",
        "    return (a + b) / 2\n",
        "\n",
        "# Intervalo inicial\n",
        "a = -2\n",
        "b = 2\n",
        "\n",
        "# Tolerancia y máximo de iteraciones\n",
        "tolerance = 1e-6\n",
        "max_iterations = 100\n",
        "\n",
        "root = bisection_method(a, b, tolerance, max_iterations)\n",
        "print(\"Aproximación de la raíz:\", root)\n",
        "print(\"Valor de la función en la raíz:\", f(root))\n"
      ]
    }
  ]
}